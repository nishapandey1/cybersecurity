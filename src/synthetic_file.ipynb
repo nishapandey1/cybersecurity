{
  "nbformat": 4,
  "nbformat_minor": 0,
  "metadata": {
    "colab": {
      "provenance": [],
      "authorship_tag": "ABX9TyO0p1jI1We6rtFCyMLmb8hv",
      "include_colab_link": true
    },
    "kernelspec": {
      "name": "python3",
      "display_name": "Python 3"
    },
    "language_info": {
      "name": "python"
    }
  },
  "cells": [
    {
      "cell_type": "markdown",
      "metadata": {
        "id": "view-in-github",
        "colab_type": "text"
      },
      "source": [
        "<a href=\"https://colab.research.google.com/github/nishapandey1/cybersecurity/blob/main/src/synthetic_file.ipynb\" target=\"_parent\"><img src=\"https://colab.research.google.com/assets/colab-badge.svg\" alt=\"Open In Colab\"/></a>"
      ]
    },
    {
      "cell_type": "code",
      "execution_count": 2,
      "metadata": {
        "id": "JezhW4-HqWGw"
      },
      "outputs": [],
      "source": [
        "#generating synthetic dataset\n",
        "import pandas as pd\n",
        "import numpy as np\n",
        "from datetime import datetime, timedelta\n"
      ]
    },
    {
      "cell_type": "code",
      "source": [
        "def generate_normal_traffic():\n",
        "  return {\n",
        "      'timestamp':datetime.now() - timedelta(seconds=np.random.randint(0,86400)),\n",
        "      'source_ip': f'192.168.{np.random.randint(0,255)}.{np.random.randint(0,255)}',\n",
        "      'destination_ip' : f'10.0.{np.random.randint(0,255)}.{np.random.randint(0,255)}',\n",
        "      'protocol': np.random.choice(['TCP','UDP','ICMP']),\n",
        "      'port': np.random.randint(1,65535),\n",
        "      'bytes': np.random.normal(1500, 500),\n",
        "      'packets': np.random.randint(1,100),\n",
        "      'duration': np.random.exponential(30),\n",
        "      'is_attack': 0\n",
        "    }"
      ],
      "metadata": {
        "id": "rv0rBzGArNZK"
      },
      "execution_count": 3,
      "outputs": []
    },
    {
      "cell_type": "code",
      "source": [
        "def generate_attack_traffic():\n",
        "  \"\"\"Gnerate_attack_traffic data.\"\"\"\n",
        "  attack_types = {\n",
        "      'ddos': {\n",
        "          'bytes': np.random.normal(15000, 1000),\n",
        "          'packets': np.random.randint(500,1000),\n",
        "          'duration': np.random.exponential(5),\n",
        "      },\n",
        "      'port_scan': {\n",
        "          'bytes': np.random.normal(100, 20),\n",
        "          'packets': np.random.randint(1,3),\n",
        "          'duration': np.random.exponential(0, 1),\n",
        "      },\n",
        "      'brute_force': {\n",
        "          'bytes': np.random.normal(500, 10),\n",
        "          'packets': np.random.randint(10, 50),\n",
        "          'duration': np.random.exponential(1),\n",
        "      },\n",
        "\n",
        "    }\n",
        "\n",
        "  attack_type = np.random.choice(list(attack_types.keys()))\n",
        "  attack_params = attack_types[attack_type]\n",
        "\n",
        "  return {\n",
        "        'timestamp': datetime.now() - timedelta(seconds=np.random.randint(0,86400)),\n",
        "        'source_ip': f\"45.{np.random.randint(1, 255)}.{np.random.randint(1, 255)}.{np.random.randint(1, 255)}\",\n",
        "        'destination_ip': f\"10.0{np.random.randint(1, 255)}.{np.random.randint(1, 255)}\",\n",
        "        'protocol': np.random.choice(['TCP', 'UDP', 'ICMP']),\n",
        "        'port': np.random.randint(1, 65535),\n",
        "        'bytes': attack_params['bytes'],\n",
        "        'packets': attack_params['packets'],\n",
        "        'duration': attack_params['duration'],\n",
        "        'is_attack': 1,\n",
        "        'attack_type': attack_type\n",
        "    }"
      ],
      "metadata": {
        "id": "ycIqnj5-xhqE"
      },
      "execution_count": 4,
      "outputs": []
    }
  ]
}